{
 "cells": [
  {
   "cell_type": "markdown",
   "source": [
    "## Population script"
   ],
   "metadata": {
    "collapsed": false,
    "pycharm": {
     "name": "#%%\nmd\n"
    }
   }
  },
  {
   "cell_type": "code",
   "execution_count": 5,
   "metadata": {
    "collapsed": true
   },
   "outputs": [],
   "source": [
    "import os\n",
    "\n",
    "os.environ.setdefault('DJANGO_SETTINGS_MODULE', 'kikify_django.settings')\n",
    "os.environ[\"DJANGO_ALLOW_ASYNC_UNSAFE\"] = \"true\"\n",
    "\n",
    "import django\n",
    "\n",
    "django.setup()\n",
    "\n",
    "from kikify.models import Artist, Album, Song\n",
    "from django.utils import timezone\n",
    "import stagger\n",
    "from stagger.id3 import *       # contains ID3 frame types"
   ]
  },
  {
   "cell_type": "markdown",
   "source": [
    "Getting all mp3 files in directory"
   ],
   "metadata": {
    "collapsed": false
   }
  },
  {
   "cell_type": "code",
   "execution_count": 6,
   "outputs": [],
   "source": [
    "def mp3gen(path):\n",
    "    for root, dirs, files in os.walk(path):\n",
    "        for filename in files:\n",
    "            if os.path.splitext(filename)[1] == \".mp3\":\n",
    "                yield os.path.join(root, filename)"
   ],
   "metadata": {
    "collapsed": false,
    "pycharm": {
     "name": "#%%\n"
    }
   }
  },
  {
   "cell_type": "markdown",
   "source": [
    "#### Iterate files:"
   ],
   "metadata": {
    "collapsed": false
   }
  },
  {
   "cell_type": "code",
   "execution_count": 7,
   "outputs": [],
   "source": [
    "PATH = 'C:\\\\Users\\\\Kristijan\\\\Desktop\\\\Muzika'"
   ],
   "metadata": {
    "collapsed": false,
    "pycharm": {
     "name": "#%%\n"
    }
   }
  },
  {
   "cell_type": "markdown",
   "source": [
    "Util function"
   ],
   "metadata": {
    "collapsed": false
   }
  },
  {
   "cell_type": "code",
   "execution_count": 8,
   "outputs": [],
   "source": [
    "def parseTag(tag):\n",
    "    artist_tag = None\n",
    "    try:\n",
    "        artist_tag = tag.artist\n",
    "        if not artist_tag:\n",
    "            artist_tag = 'Unknown artist'\n",
    "    except:\n",
    "        artist_tag = 'Unknown artist'\n",
    "\n",
    "    album_tag = None\n",
    "    try:\n",
    "        album_tag = tag.album\n",
    "        if not album_tag:\n",
    "            album_tag = 'Unknown album'\n",
    "    except:\n",
    "        album_tag = 'Unknown album'\n",
    "\n",
    "    song_tag = None\n",
    "    try:\n",
    "        song_tag = tag.title\n",
    "        if not song_tag:\n",
    "            song_tag = 'Unknown song'\n",
    "    except:\n",
    "        song_tag = 'Unknown song'\n",
    "\n",
    "    year = None\n",
    "    try:\n",
    "        year = int(tag.date.split(sep='-')[0])\n",
    "    except ValueError:\n",
    "        year = 2020\n",
    "\n",
    "    picture = None\n",
    "    try:\n",
    "        picture = tag.picture\n",
    "    except:\n",
    "        picture = open('../kikify/static/no-album-art.png').read()\n",
    "\n",
    "    return {\n",
    "        'song' : song_tag,\n",
    "        'album': album_tag,\n",
    "        'artist': artist_tag,\n",
    "        'year': year,\n",
    "        'picture': picture\n",
    "    }"
   ],
   "metadata": {
    "collapsed": false,
    "pycharm": {
     "name": "#%%\n"
    }
   }
  },
  {
   "cell_type": "code",
   "execution_count": 9,
   "outputs": [
    {
     "ename": "ValueError",
     "evalue": "\"<Album: Unknown album>\" needs to have a value for field \"id\" before this many-to-many relationship can be used.",
     "output_type": "error",
     "traceback": [
      "\u001B[1;31m---------------------------------------------------------------------------\u001B[0m",
      "\u001B[1;31mValueError\u001B[0m                                Traceback (most recent call last)",
      "\u001B[1;32m<ipython-input-9-fecdab7f591d>\u001B[0m in \u001B[0;36m<module>\u001B[1;34m\u001B[0m\n\u001B[0;32m     23\u001B[0m                   \u001B[0myear_of_production\u001B[0m\u001B[1;33m=\u001B[0m\u001B[0mparsedTag\u001B[0m\u001B[1;33m[\u001B[0m\u001B[1;34m'year'\u001B[0m\u001B[1;33m]\u001B[0m\u001B[1;33m,\u001B[0m\u001B[1;33m\u001B[0m\u001B[1;33m\u001B[0m\u001B[0m\n\u001B[0;32m     24\u001B[0m                   picture=parsedTag['picture'])\n\u001B[1;32m---> 25\u001B[1;33m         \u001B[0malbum\u001B[0m\u001B[1;33m.\u001B[0m\u001B[0martist\u001B[0m\u001B[1;33m.\u001B[0m\u001B[0mset\u001B[0m\u001B[1;33m(\u001B[0m\u001B[0malbum\u001B[0m\u001B[1;33m)\u001B[0m\u001B[1;33m\u001B[0m\u001B[1;33m\u001B[0m\u001B[0m\n\u001B[0m\u001B[0;32m     26\u001B[0m     \u001B[1;32melse\u001B[0m\u001B[1;33m:\u001B[0m\u001B[1;33m\u001B[0m\u001B[1;33m\u001B[0m\u001B[0m\n\u001B[0;32m     27\u001B[0m         \u001B[0malbum\u001B[0m \u001B[1;33m=\u001B[0m \u001B[0malbums\u001B[0m\u001B[1;33m[\u001B[0m\u001B[1;36m0\u001B[0m\u001B[1;33m]\u001B[0m\u001B[1;33m\u001B[0m\u001B[1;33m\u001B[0m\u001B[0m\n",
      "\u001B[1;32mc:\\users\\kristijan\\desktop\\kikify_django\\venv\\lib\\site-packages\\django\\db\\models\\fields\\related_descriptors.py\u001B[0m in \u001B[0;36m__get__\u001B[1;34m(self, instance, cls)\u001B[0m\n\u001B[0;32m    534\u001B[0m             \u001B[1;32mreturn\u001B[0m \u001B[0mself\u001B[0m\u001B[1;33m\u001B[0m\u001B[1;33m\u001B[0m\u001B[0m\n\u001B[0;32m    535\u001B[0m \u001B[1;33m\u001B[0m\u001B[0m\n\u001B[1;32m--> 536\u001B[1;33m         \u001B[1;32mreturn\u001B[0m \u001B[0mself\u001B[0m\u001B[1;33m.\u001B[0m\u001B[0mrelated_manager_cls\u001B[0m\u001B[1;33m(\u001B[0m\u001B[0minstance\u001B[0m\u001B[1;33m)\u001B[0m\u001B[1;33m\u001B[0m\u001B[1;33m\u001B[0m\u001B[0m\n\u001B[0m\u001B[0;32m    537\u001B[0m \u001B[1;33m\u001B[0m\u001B[0m\n\u001B[0;32m    538\u001B[0m     \u001B[1;32mdef\u001B[0m \u001B[0m_get_set_deprecation_msg_params\u001B[0m\u001B[1;33m(\u001B[0m\u001B[0mself\u001B[0m\u001B[1;33m)\u001B[0m\u001B[1;33m:\u001B[0m\u001B[1;33m\u001B[0m\u001B[1;33m\u001B[0m\u001B[0m\n",
      "\u001B[1;32mc:\\users\\kristijan\\desktop\\kikify_django\\venv\\lib\\site-packages\\django\\db\\models\\fields\\related_descriptors.py\u001B[0m in \u001B[0;36m__init__\u001B[1;34m(self, instance)\u001B[0m\n\u001B[0;32m    849\u001B[0m             \u001B[0mself\u001B[0m\u001B[1;33m.\u001B[0m\u001B[0mrelated_val\u001B[0m \u001B[1;33m=\u001B[0m \u001B[0mself\u001B[0m\u001B[1;33m.\u001B[0m\u001B[0msource_field\u001B[0m\u001B[1;33m.\u001B[0m\u001B[0mget_foreign_related_value\u001B[0m\u001B[1;33m(\u001B[0m\u001B[0minstance\u001B[0m\u001B[1;33m)\u001B[0m\u001B[1;33m\u001B[0m\u001B[1;33m\u001B[0m\u001B[0m\n\u001B[0;32m    850\u001B[0m             \u001B[1;32mif\u001B[0m \u001B[1;32mNone\u001B[0m \u001B[1;32min\u001B[0m \u001B[0mself\u001B[0m\u001B[1;33m.\u001B[0m\u001B[0mrelated_val\u001B[0m\u001B[1;33m:\u001B[0m\u001B[1;33m\u001B[0m\u001B[1;33m\u001B[0m\u001B[0m\n\u001B[1;32m--> 851\u001B[1;33m                 raise ValueError('\"%r\" needs to have a value for field \"%s\" before '\n\u001B[0m\u001B[0;32m    852\u001B[0m                                  \u001B[1;34m'this many-to-many relationship can be used.'\u001B[0m \u001B[1;33m%\u001B[0m\u001B[1;33m\u001B[0m\u001B[1;33m\u001B[0m\u001B[0m\n\u001B[0;32m    853\u001B[0m                                  (instance, self.pk_field_names[self.source_field_name]))\n",
      "\u001B[1;31mValueError\u001B[0m: \"<Album: Unknown album>\" needs to have a value for field \"id\" before this many-to-many relationship can be used."
     ]
    }
   ],
   "source": [
    "for mp3file in mp3gen(PATH):\n",
    "\n",
    "    tag = stagger.read_tag(mp3file)\n",
    "    if not tag: continue\n",
    "\n",
    "\n",
    "    parsedTag = parseTag(tag=tag)\n",
    "\n",
    "    # Creating artist\n",
    "    artists = list(Artist.objects.filter(name=parsedTag['artist']))\n",
    "    artist = None\n",
    "    if len(artists)==0:\n",
    "        artist = Artist.objects.create(name=parsedTag['artist'])\n",
    "    else:\n",
    "        artist = artists[0]\n",
    "\n",
    "    # Creating album\n",
    "    albums = list(Album.objects.filter(name=parsedTag['album'],\n",
    "                  year_of_production=parsedTag['year'],artist=artist))\n",
    "    album = None\n",
    "    if len(albums)==0:\n",
    "        album = Album(name=parsedTag['album'],\n",
    "                  year_of_production=parsedTag['year'],\n",
    "                  picture=parsedTag['picture'])\n",
    "        album.artist.set(album)\n",
    "    else:\n",
    "        album = albums[0]\n",
    "\n",
    "    # Creating song\n",
    "    song_in_bytes = open(file=mp3file, mode='rb').read()\n",
    "    songs = list(Album.objects.filter(name=parsedTag['title'],\n",
    "                      year_of_production=parsedTag['year'],\n",
    "                      album=album))\n",
    "    song = None\n",
    "    if len(songs)==0:\n",
    "        song = Song.objects.create(name=parsedTag['title'],\n",
    "                    year_of_production=parsedTag['year'],\n",
    "                    album=album,\n",
    "                    song_in_bytes=song_in_bytes)\n",
    "    else:\n",
    "        song = songs[0]\n",
    "\n",
    "    print(f'Song {song.name} has been saved successfully.')\n",
    "\n",
    "\n"
   ],
   "metadata": {
    "collapsed": false,
    "pycharm": {
     "name": "#%%\n"
    }
   }
  }
 ],
 "metadata": {
  "kernelspec": {
   "display_name": "Python 3",
   "language": "python",
   "name": "python3"
  },
  "language_info": {
   "codemirror_mode": {
    "name": "ipython",
    "version": 2
   },
   "file_extension": ".py",
   "mimetype": "text/x-python",
   "name": "python",
   "nbconvert_exporter": "python",
   "pygments_lexer": "ipython2",
   "version": "2.7.6"
  }
 },
 "nbformat": 4,
 "nbformat_minor": 0
}